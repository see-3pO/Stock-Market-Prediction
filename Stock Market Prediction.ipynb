{
 "cells": [
  {
   "cell_type": "markdown",
   "id": "54f31cca-3d6a-4fc4-ac82-6b7d8c6cb9d9",
   "metadata": {},
   "source": [
    "## Stock Market Prediction with Machine Learning \n",
    "\n",
    "**Objectives:**\n",
    "\n",
    "* To create a machine learning model that can predict the following day's S&P index price given historical data\n",
    "* To back test the model on 20+ years of historical data"
   ]
  },
  {
   "cell_type": "markdown",
   "id": "b80d7e52-4982-420a-9f73-d36de3a87dbb",
   "metadata": {},
   "source": [
    "## Workflow\n",
    "Here are the steps taken when doing this project:\n",
    "1. [Importing libraries](#libraries)\n",
    "2. [Download S&P 500 Price data](#data-download)\n",
    "3. [Data Cleaning and visualization](#cleaning)\n",
    "4. [Setting up the target for ML](#target-setup)\n",
    "5. [Training an initial ML model](#initial-model)\n",
    "6. [Building a Backtesting system](#backtest)"
   ]
  },
  {
   "cell_type": "markdown",
   "id": "a627dc30-9d4e-48d4-960c-00563da357fd",
   "metadata": {},
   "source": [
    "<a name=\"libraries\"></a>\n",
    "### 1. Importing libraries"
   ]
  },
  {
   "cell_type": "code",
   "execution_count": 1,
   "id": "dfa5e444-5201-4a62-b7bf-59f6d8520076",
   "metadata": {},
   "outputs": [],
   "source": [
    "import pandas as pd\n",
    "import matplotlib.pyplot as plt\n",
    "import numpy as np\n",
    "import seaborn as sns\n",
    "import sklearn\n",
    "\n",
    "%matplotlib inline\n",
    "pd.set_option(\"display.max_columns\", 50)"
   ]
  },
  {
   "cell_type": "markdown",
   "id": "fd7751bc-0d67-427f-8222-98b98c7518d3",
   "metadata": {},
   "source": [
    "### 2. Download S&P 500 Price data"
   ]
  },
  {
   "cell_type": "markdown",
   "id": "b085d9b2-cb6f-43e3-8f0b-fa3a9c9d44a0",
   "metadata": {},
   "source": [
    "First import the `yfinance` package, that calls the Yahoo Finance API to download daily stock and index prices"
   ]
  },
  {
   "cell_type": "code",
   "execution_count": 2,
   "id": "cd145ff8-711f-4a73-9c3c-f475ab07e958",
   "metadata": {},
   "outputs": [],
   "source": [
    "import yfinance as yf"
   ]
  },
  {
   "cell_type": "markdown",
   "id": "f79d7f9c-021b-4d86-b2d6-4b36e320f599",
   "metadata": {},
   "source": [
    "[Helpful Read](https://medium.com/@kasperjuunge/yfinance-10-ways-to-get-stock-data-with-python-6677f49e8282)\\\n",
    "The `Ticker` class allows you to to access various data for a specific stock.\\\n",
    "In our case, it will enable us to download the price history for a single symbol,the **^GSPC** for the S&P500 index."
   ]
  },
  {
   "cell_type": "code",
   "execution_count": 3,
   "id": "8ac4ff42-1f6c-4ca2-b89e-26d0ce45bcd5",
   "metadata": {},
   "outputs": [],
   "source": [
    "# initializing the Ticker class\n",
    "sp500 = yf.Ticker(\"^GSPC\")"
   ]
  },
  {
   "cell_type": "code",
   "execution_count": 4,
   "id": "a8ac308a-9f7f-4c9c-9597-a4c0540af285",
   "metadata": {},
   "outputs": [
    {
     "name": "stderr",
     "output_type": "stream",
     "text": [
      "^GSPC: No price data found, symbol may be delisted (1d 1925-03-25 -> 2024-03-01)\n"
     ]
    }
   ],
   "source": [
    "# querying the history using history() method\n",
    "sp500 = sp500.history(period=\"max\")"
   ]
  },
  {
   "cell_type": "code",
   "execution_count": 5,
   "id": "af13a9fe-0efd-4d79-a1d6-92432198efa0",
   "metadata": {},
   "outputs": [
    {
     "data": {
      "text/html": [
       "<div>\n",
       "<style scoped>\n",
       "    .dataframe tbody tr th:only-of-type {\n",
       "        vertical-align: middle;\n",
       "    }\n",
       "\n",
       "    .dataframe tbody tr th {\n",
       "        vertical-align: top;\n",
       "    }\n",
       "\n",
       "    .dataframe thead th {\n",
       "        text-align: right;\n",
       "    }\n",
       "</style>\n",
       "<table border=\"1\" class=\"dataframe\">\n",
       "  <thead>\n",
       "    <tr style=\"text-align: right;\">\n",
       "      <th></th>\n",
       "      <th>Open</th>\n",
       "      <th>High</th>\n",
       "      <th>Low</th>\n",
       "      <th>Close</th>\n",
       "      <th>Adj Close</th>\n",
       "      <th>Volume</th>\n",
       "    </tr>\n",
       "    <tr>\n",
       "      <th>Date</th>\n",
       "      <th></th>\n",
       "      <th></th>\n",
       "      <th></th>\n",
       "      <th></th>\n",
       "      <th></th>\n",
       "      <th></th>\n",
       "    </tr>\n",
       "  </thead>\n",
       "  <tbody>\n",
       "  </tbody>\n",
       "</table>\n",
       "</div>"
      ],
      "text/plain": [
       "Empty DataFrame\n",
       "Columns: [Open, High, Low, Close, Adj Close, Volume]\n",
       "Index: []"
      ]
     },
     "execution_count": 5,
     "metadata": {},
     "output_type": "execute_result"
    }
   ],
   "source": [
    "sp500"
   ]
  },
  {
   "cell_type": "markdown",
   "id": "5944eb9f-1232-4219-9487-13b80df093d5",
   "metadata": {},
   "source": [
    "In the dataframe, each row shows the price in a single trading day, non-trading days are not included.\\\n",
    "Columns explained:\n",
    "- Open: opening price when the market opened\n",
    "- High: highest price during the day\n",
    "- Low: lowest price during the day\n",
    "- Close: closing price when the exchange closed\n",
    "- Volume: trading volume(quantity of shares belonging to the stock) for the day\n",
    "- Dividends: portion of a company's earnings paid to shareholders.\n",
    "- Stock splits: when a company increases  the number of oustanding shares of stock to boost the stock's liquidity.\n"
   ]
  },
  {
   "cell_type": "code",
   "execution_count": 6,
   "id": "dd3ed00c-4098-4b2c-abc2-86fb5488a6c9",
   "metadata": {},
   "outputs": [
    {
     "data": {
      "text/plain": [
       "Index([], dtype='object', name='Date')"
      ]
     },
     "execution_count": 6,
     "metadata": {},
     "output_type": "execute_result"
    }
   ],
   "source": [
    "sp500.index"
   ]
  },
  {
   "cell_type": "markdown",
   "id": "de66f8ba-58a6-4b19-bf45-e4f271e50438",
   "metadata": {},
   "source": [
    "<a name=\"cleaning\"></a>\n",
    "### 3. Cleaning and visualizing the data"
   ]
  },
  {
   "cell_type": "code",
   "execution_count": 7,
   "id": "3f04b2fb-0847-4b88-89b5-c7e76a72beb7",
   "metadata": {},
   "outputs": [
    {
     "data": {
      "text/plain": [
       "<Axes: xlabel='Date'>"
      ]
     },
     "execution_count": 7,
     "metadata": {},
     "output_type": "execute_result"
    },
    {
     "data": {
      "image/png": "[encoded data removed]",
      "text/plain": [
       "<Figure size 640x480 with 1 Axes>"
      ]
     },
     "metadata": {},
     "output_type": "display_data"
    }
   ],
   "source": [
    "#plotting the closing price line chart\n",
    "sp500.plot(kind=\"line\", y=\"Close\", use_index=True)"
   ]
  },
  {
   "cell_type": "markdown",
   "id": "2819be41-ebe6-48a0-a493-c0715f4ad065",
   "metadata": {},
   "source": [
    "An interesting method to drop columns in a dataframe is using `del` to delete the column using the syntax `del df['column name']`"
   ]
  },
  {
   "cell_type": "code",
   "execution_count": 8,
   "id": "ef49982a-6a1d-4afe-b7c8-dd73f44fd87b",
   "metadata": {},
   "outputs": [
    {
     "ename": "KeyError",
     "evalue": "'Dividends'",
     "output_type": "error",
     "traceback": [
      "\u001b[1;31m---------------------------------------------------------------------------\u001b[0m",
      "\u001b[1;31mKeyError\u001b[0m                                  Traceback (most recent call last)",
      "File \u001b[1;32mC:\\projects\\Stock Market Prediction\\myenv\\Lib\\site-packages\\pandas\\core\\indexes\\base.py:3805\u001b[0m, in \u001b[0;36mIndex.get_loc\u001b[1;34m(self, key)\u001b[0m\n\u001b[0;32m   3804\u001b[0m \u001b[38;5;28;01mtry\u001b[39;00m:\n\u001b[1;32m-> 3805\u001b[0m     \u001b[38;5;28;01mreturn\u001b[39;00m \u001b[38;5;28;43mself\u001b[39;49m\u001b[38;5;241;43m.\u001b[39;49m\u001b[43m_engine\u001b[49m\u001b[38;5;241;43m.\u001b[39;49m\u001b[43mget_loc\u001b[49m\u001b[43m(\u001b[49m\u001b[43mcasted_key\u001b[49m\u001b[43m)\u001b[49m\n\u001b[0;32m   3806\u001b[0m \u001b[38;5;28;01mexcept\u001b[39;00m \u001b[38;5;167;01mKeyError\u001b[39;00m \u001b[38;5;28;01mas\u001b[39;00m err:\n",
      "File \u001b[1;32mindex.pyx:167\u001b[0m, in \u001b[0;36mpandas._libs.index.IndexEngine.get_loc\u001b[1;34m()\u001b[0m\n",
      "File \u001b[1;32mindex.pyx:196\u001b[0m, in \u001b[0;36mpandas._libs.index.IndexEngine.get_loc\u001b[1;34m()\u001b[0m\n",
      "File \u001b[1;32mpandas\\\\_libs\\\\hashtable_class_helper.pxi:7081\u001b[0m, in \u001b[0;36mpandas._libs.hashtable.PyObjectHashTable.get_item\u001b[1;34m()\u001b[0m\n",
      "File \u001b[1;32mpandas\\\\_libs\\\\hashtable_class_helper.pxi:7089\u001b[0m, in \u001b[0;36mpandas._libs.hashtable.PyObjectHashTable.get_item\u001b[1;34m()\u001b[0m\n",
      "\u001b[1;31mKeyError\u001b[0m: 'Dividends'",
      "\nThe above exception was the direct cause of the following exception:\n",
      "\u001b[1;31mKeyError\u001b[0m                                  Traceback (most recent call last)",
      "Cell \u001b[1;32mIn[8], line 2\u001b[0m\n\u001b[0;32m      1\u001b[0m \u001b[38;5;66;03m# removing the dividends and stock splits columns\u001b[39;00m\n\u001b[1;32m----> 2\u001b[0m \u001b[38;5;28;01mdel\u001b[39;00m \u001b[43msp500\u001b[49m\u001b[43m[\u001b[49m\u001b[38;5;124;43m\"\u001b[39;49m\u001b[38;5;124;43mDividends\u001b[39;49m\u001b[38;5;124;43m\"\u001b[39;49m\u001b[43m]\u001b[49m\n\u001b[0;32m      3\u001b[0m \u001b[38;5;28;01mdel\u001b[39;00m sp500[\u001b[38;5;124m\"\u001b[39m\u001b[38;5;124mStock Splits\u001b[39m\u001b[38;5;124m\"\u001b[39m]\n",
      "File \u001b[1;32mC:\\projects\\Stock Market Prediction\\myenv\\Lib\\site-packages\\pandas\\core\\generic.py:4503\u001b[0m, in \u001b[0;36mNDFrame.__delitem__\u001b[1;34m(self, key)\u001b[0m\n\u001b[0;32m   4498\u001b[0m             deleted \u001b[38;5;241m=\u001b[39m \u001b[38;5;28;01mTrue\u001b[39;00m\n\u001b[0;32m   4499\u001b[0m \u001b[38;5;28;01mif\u001b[39;00m \u001b[38;5;129;01mnot\u001b[39;00m deleted:\n\u001b[0;32m   4500\u001b[0m     \u001b[38;5;66;03m# If the above loop ran and didn't delete anything because\u001b[39;00m\n\u001b[0;32m   4501\u001b[0m     \u001b[38;5;66;03m# there was no match, this call should raise the appropriate\u001b[39;00m\n\u001b[0;32m   4502\u001b[0m     \u001b[38;5;66;03m# exception:\u001b[39;00m\n\u001b[1;32m-> 4503\u001b[0m     loc \u001b[38;5;241m=\u001b[39m \u001b[38;5;28;43mself\u001b[39;49m\u001b[38;5;241;43m.\u001b[39;49m\u001b[43maxes\u001b[49m\u001b[43m[\u001b[49m\u001b[38;5;241;43m-\u001b[39;49m\u001b[38;5;241;43m1\u001b[39;49m\u001b[43m]\u001b[49m\u001b[38;5;241;43m.\u001b[39;49m\u001b[43mget_loc\u001b[49m\u001b[43m(\u001b[49m\u001b[43mkey\u001b[49m\u001b[43m)\u001b[49m\n\u001b[0;32m   4504\u001b[0m     \u001b[38;5;28mself\u001b[39m\u001b[38;5;241m.\u001b[39m_mgr \u001b[38;5;241m=\u001b[39m \u001b[38;5;28mself\u001b[39m\u001b[38;5;241m.\u001b[39m_mgr\u001b[38;5;241m.\u001b[39midelete(loc)\n\u001b[0;32m   4506\u001b[0m \u001b[38;5;66;03m# delete from the caches\u001b[39;00m\n",
      "File \u001b[1;32mC:\\projects\\Stock Market Prediction\\myenv\\Lib\\site-packages\\pandas\\core\\indexes\\base.py:3812\u001b[0m, in \u001b[0;36mIndex.get_loc\u001b[1;34m(self, key)\u001b[0m\n\u001b[0;32m   3807\u001b[0m     \u001b[38;5;28;01mif\u001b[39;00m \u001b[38;5;28misinstance\u001b[39m(casted_key, \u001b[38;5;28mslice\u001b[39m) \u001b[38;5;129;01mor\u001b[39;00m (\n\u001b[0;32m   3808\u001b[0m         \u001b[38;5;28misinstance\u001b[39m(casted_key, abc\u001b[38;5;241m.\u001b[39mIterable)\n\u001b[0;32m   3809\u001b[0m         \u001b[38;5;129;01mand\u001b[39;00m \u001b[38;5;28many\u001b[39m(\u001b[38;5;28misinstance\u001b[39m(x, \u001b[38;5;28mslice\u001b[39m) \u001b[38;5;28;01mfor\u001b[39;00m x \u001b[38;5;129;01min\u001b[39;00m casted_key)\n\u001b[0;32m   3810\u001b[0m     ):\n\u001b[0;32m   3811\u001b[0m         \u001b[38;5;28;01mraise\u001b[39;00m InvalidIndexError(key)\n\u001b[1;32m-> 3812\u001b[0m     \u001b[38;5;28;01mraise\u001b[39;00m \u001b[38;5;167;01mKeyError\u001b[39;00m(key) \u001b[38;5;28;01mfrom\u001b[39;00m \u001b[38;5;21;01merr\u001b[39;00m\n\u001b[0;32m   3813\u001b[0m \u001b[38;5;28;01mexcept\u001b[39;00m \u001b[38;5;167;01mTypeError\u001b[39;00m:\n\u001b[0;32m   3814\u001b[0m     \u001b[38;5;66;03m# If we have a listlike key, _check_indexing_error will raise\u001b[39;00m\n\u001b[0;32m   3815\u001b[0m     \u001b[38;5;66;03m#  InvalidIndexError. Otherwise we fall through and re-raise\u001b[39;00m\n\u001b[0;32m   3816\u001b[0m     \u001b[38;5;66;03m#  the TypeError.\u001b[39;00m\n\u001b[0;32m   3817\u001b[0m     \u001b[38;5;28mself\u001b[39m\u001b[38;5;241m.\u001b[39m_check_indexing_error(key)\n",
      "\u001b[1;31mKeyError\u001b[0m: 'Dividends'"
     ]
    }
   ],
   "source": [
    "# removing the dividends and stock splits columns\n",
    "del sp500[\"Dividends\"]\n",
    "del sp500[\"Stock Splits\"]"
   ]
  },
  {
   "cell_type": "code",
   "execution_count": null,
   "id": "e695d824-62fd-45b4-a561-2c20682d81e1",
   "metadata": {},
   "outputs": [],
   "source": [
    "sp500"
   ]
  },
  {
   "cell_type": "markdown",
   "id": "80ae6d93-944c-444d-816a-0527234c217d",
   "metadata": {},
   "source": [
    "<a name=\"target-setup\"></a>\n",
    "### 4. Set up the target for ML"
   ]
  },
  {
   "cell_type": "code",
   "execution_count": null,
   "id": "79b4783a-0562-4c79-8606-930c2582cf45",
   "metadata": {},
   "outputs": [],
   "source": [
    "# creating a column called Tomorrow(tomorrow's price) using shift method \n",
    "sp500[\"Tomorrow\"] = sp500[\"Close\"].shift(-1)\n",
    "sp500"
   ]
  },
  {
   "cell_type": "markdown",
   "id": "ed738786-22b6-4ca4-a05b-ec9b6a184bce",
   "metadata": {},
   "source": [
    "Shifting a column is moving its values up and down by a certain number of rows.This is achieved in pandas using the `shift()` function. The function takes a single argument, that is the number of rows to shift the column by.\\\n",
    "If the arguments are positive, the column values are shifted downwards, if negative, the values are shifted upwards.\\\n",
    "In our case, the Close column prices were shifted back one day(by one row) to form the Tomorrow column.This enables us to create a column that shows tomorrow's price based on the future closing prices!😃"
   ]
  },
  {
   "cell_type": "code",
   "execution_count": null,
   "id": "46d7d44d-4f67-47dd-87eb-0bcc27a577d5",
   "metadata": {},
   "outputs": [],
   "source": [
    "# using Tomorrow column to set up the target\n",
    "sp500[\"Target\"] = (sp500[\"Tomorrow\"] > sp500[\"Close\"]).astype(int)"
   ]
  },
  {
   "cell_type": "markdown",
   "id": "027b7cea-be2d-41e4-9ee8-09f85158019b",
   "metadata": {},
   "source": [
    "Output is a boolean indicating whether tomorrow's price is greater than today's price\\\n",
    "It's a `1` when the price is `higher`(price increased) and a `O` when the price is `lower`(price decreased)"
   ]
  },
  {
   "cell_type": "code",
   "execution_count": null,
   "id": "766311ed-964b-4e22-b158-f365e9e4cc70",
   "metadata": {},
   "outputs": [],
   "source": [
    "sp500"
   ]
  },
  {
   "cell_type": "code",
   "execution_count": null,
   "id": "5aaf3266-b15e-43ee-a75b-40ab76108f20",
   "metadata": {},
   "outputs": [],
   "source": [
    "# choosing only data that came after 1990\n",
    "sp500 = sp500.loc[\"1990-01-01\":].copy()\n",
    "sp500"
   ]
  },
  {
   "cell_type": "markdown",
   "id": "1f457bb5-16a7-4cf7-8bcd-d008f3593e11",
   "metadata": {},
   "source": [
    "<a name=\"initial-model\"></a>\n",
    "### 5. Training an initial ML model"
   ]
  },
  {
   "cell_type": "code",
   "execution_count": null,
   "id": "d04524f3-967c-4a46-977f-d0273f14c740",
   "metadata": {},
   "outputs": [],
   "source": [
    "from sklearn.ensemble import RandomForestClassifier\n",
    "\n",
    "# creating instance of the class\n",
    "rand_model = RandomForestClassifier(n_estimators=100, min_samples_split=100, random_state=42)\n"
   ]
  },
  {
   "cell_type": "code",
   "execution_count": null,
   "id": "6edf408a-5582-4f47-b4c8-c0a3c848e86e",
   "metadata": {},
   "outputs": [],
   "source": [
    "sp500.shape"
   ]
  },
  {
   "cell_type": "code",
   "execution_count": null,
   "id": "75135ce3-4016-4b77-948f-06f1793d3ad2",
   "metadata": {},
   "outputs": [],
   "source": [
    "sp500.columns"
   ]
  },
  {
   "cell_type": "code",
   "execution_count": null,
   "id": "b6c31ddf-8f85-4946-9e86-166660927a49",
   "metadata": {},
   "outputs": [],
   "source": [
    "# splitting the data into train and test sets\n",
    "\n",
    "# training set has all of the rows except the last 100\n",
    "train_set = sp500.iloc[:-100]\n",
    "# test data=last 100 rows\n",
    "test_set = sp500.iloc[-100:]\n",
    "\n",
    "#features\n",
    "features = ['Open', 'High', 'Low', 'Close', 'Volume']"
   ]
  },
  {
   "cell_type": "markdown",
   "id": "89db730a-d81c-4997-946d-ef6c666d6542",
   "metadata": {},
   "source": [
    "When dealing with time series data, it's advisable not to use crossvalidation or any other splitting method that doesn't consider the time series nature of the data.This is because you will be using future data to predict the past, which is impractical, and will result in leakage(leaking information into the model)."
   ]
  },
  {
   "cell_type": "code",
   "execution_count": null,
   "id": "40a1c36d-9337-4049-967f-9a53de197286",
   "metadata": {
    "scrolled": true
   },
   "outputs": [],
   "source": [
    "# fiting the model\n",
    "rand_model.fit(train_set[features], train_set[\"Target\"])"
   ]
  },
  {
   "cell_type": "markdown",
   "id": "49f1eb3b-efa8-454b-90ec-b4d567ae32bb",
   "metadata": {},
   "source": [
    "Since I'm familiar with the usual `train_test_split()` method, this is how I interpret the train and test sets for better understanding:\n",
    "```python\n",
    "X_train = train_set[features]\n",
    "y_train = train_set[\"Target\"]\n",
    "X_test = test-set[features]\n",
    "y_test = test_set[\"Target\"]\n",
    "```\n"
   ]
  },
  {
   "cell_type": "code",
   "execution_count": null,
   "id": "9aa70849-dfec-4225-89dc-c12765b64de8",
   "metadata": {},
   "outputs": [],
   "source": [
    "# predicting\n",
    "predicts = rand_model.predict(test_set[features])"
   ]
  },
  {
   "cell_type": "code",
   "execution_count": null,
   "id": "fef3e77c-14e1-4ede-bf60-2ccae98f8140",
   "metadata": {
    "scrolled": true
   },
   "outputs": [],
   "source": [
    "predicts"
   ]
  },
  {
   "cell_type": "code",
   "execution_count": null,
   "id": "f29ecef8-79fd-421e-bb86-20f6ec6026a6",
   "metadata": {},
   "outputs": [],
   "source": [
    "# Turning predicts fron numpy array to pandas series\n",
    "predicts = pd.Series(data=predicts, index = test_set.index )"
   ]
  },
  {
   "cell_type": "code",
   "execution_count": null,
   "id": "cdcbaeb8-7dfb-409e-a90e-fc01468e240b",
   "metadata": {},
   "outputs": [],
   "source": [
    "predicts"
   ]
  },
  {
   "cell_type": "code",
   "execution_count": null,
   "id": "ff406fbf-cfee-4121-9111-20f86b26cfb0",
   "metadata": {},
   "outputs": [],
   "source": [
    "# evaluating model using precision score\n",
    "from sklearn.metrics import precision_score\n",
    "\n",
    "precision_score(test_set[\"Target\"], predicts)"
   ]
  },
  {
   "cell_type": "markdown",
   "id": "76539f5b-1802-49ed-b027-957d0cb554ce",
   "metadata": {},
   "source": [
    "Precision tells us what percentage of the model's predictions were correct.\\\n",
    "In this model, only ~54% of the predictions were true."
   ]
  },
  {
   "cell_type": "code",
   "execution_count": null,
   "id": "4a218c81-51b3-4050-b64b-547424944584",
   "metadata": {},
   "outputs": [],
   "source": [
    "# combining actual values (test_set[\"Target\"]) and the predicted  values predicts\n",
    "combined = pd.concat([test_set[\"Target\"], predicts], axis=1)"
   ]
  },
  {
   "cell_type": "code",
   "execution_count": null,
   "id": "65fe08a7-f099-42d3-abab-f4062731d602",
   "metadata": {},
   "outputs": [],
   "source": [
    "combined.head()"
   ]
  },
  {
   "cell_type": "code",
   "execution_count": null,
   "id": "aa7938df-fbc3-45f5-8512-71ba640b2499",
   "metadata": {},
   "outputs": [],
   "source": [
    "combined.plot()"
   ]
  },
  {
   "cell_type": "markdown",
   "id": "081bbcf2-2eee-4637-9d79-bd72a06a705e",
   "metadata": {},
   "source": [
    "The orange lines(0) are the model's predictions and the blue lines are what actually happened.\\\n",
    "The model mostly(from the start of 2024 onwards) predicted the prices to have gone down, which was not the case.\n"
   ]
  },
  {
   "cell_type": "markdown",
   "id": "f27701bc-658e-45ae-85c2-c6780eefebd8",
   "metadata": {},
   "source": [
    "<a name=\"backtest\"></a>\n",
    "### 6. Building a Backtesting system"
   ]
  },
  {
   "cell_type": "markdown",
   "id": "5eee0fa3-4d17-4ddb-9ca9-7b7503d68b71",
   "metadata": {},
   "source": [
    "Backtesting involves applying a strategy or predictive model to historical data to determine its accuracy.\\\n",
    "The theory is that if their strategy performed poorly in the past, it is unlikely to perform well in the future (and vice versa)"
   ]
  },
  {
   "cell_type": "code",
   "execution_count": null,
   "id": "711d6c5b-e3bf-43d8-9297-3ed6c598e75f",
   "metadata": {},
   "outputs": [],
   "source": [
    "# create a prediction function that fits and predicts\n",
    "def predict(train_set, test_set, features, rand_model):\n",
    "    rand_model.fit(train_set[features], train_set[\"Target\"])\n",
    "    predicts = rand_model.predict(test_set[features])\n",
    "    predicts = pd.Series(data=predicts, index = test_set.index, name=\"Predictions\")\n",
    "    combined = pd.concat([test_set[\"Target\"], predicts], axis=1)\n",
    "    return combined\n",
    "    "
   ]
  },
  {
   "cell_type": "code",
   "execution_count": null,
   "id": "dc5849d1-e2f1-44b3-832a-673ba17e8b58",
   "metadata": {},
   "outputs": [],
   "source": [
    "# create a backtesting function\n",
    "def backtest(data, rand_model, features, start=2500, step=250):\n",
    "    all_predictions = [] # list of dataframes, where each dataframe is the predictions for a single year\n",
    "\n",
    "    # looping across the data\n",
    "    for i in range(start, data.shape[0], step):\n",
    "        train = data.iloc[:i].copy() # training set is all years before current year\n",
    "        test = data.iloc[i:(i+step)].copy() # test set is the current year\n",
    "        predictions = predict(train,test, features,rand_model)\n",
    "        all_predictions.append(predictions)\n",
    "\n",
    "    return pd.concat(all_predictions)\n",
    "    "
   ]
  },
  {
   "cell_type": "markdown",
   "id": "8005d3db-42f8-4d34-b6a6-dfe575840f54",
   "metadata": {},
   "source": [
    "During backtesting, one takes a certain amount of data to train the first model.\\\n",
    "Every trading year has around 250 days.To train the **first** model with ten years of data, it requires us to start at an index of 2500 (250x10).\\\n",
    "What is happening is that the model is initially using the first 10 years of data to train and then predict values for the 11th year.Then takes values for the first 11 years and use it to predict the 12th year, first 12 years of data and predict values for the 13th year...\\\n",
    "Here is how the loop works:\\\n",
    "`for i in range(start, data.shape[0], step):` Here the for loop is 'initialised' at 2500 index and then incremented in steps of 250 upto the value of the total rows in the dataframe.\\\n",
    "`train = data.iloc[:i].copy()`, the training data is all data before the current index (i)/day\\\n",
    "`test = data.iloc[i:(i+step)].copy()`, the test data is all data from the current index(i)/day to the next 250 days, which is equivalent to 1 trading year from current day\\\n",
    "`predictions = predict(train, test, features, rand_model)` calling the predict function previously created and assigning output to predictions\\\n",
    "`all_predictions.append(predictions)` appending the all_predictions list with the trading year's prediction\n"
   ]
  },
  {
   "cell_type": "code",
   "execution_count": null,
   "id": "2ae06788-b573-4674-8f79-9a76276028b9",
   "metadata": {},
   "outputs": [],
   "source": [
    "prediction = backtest(sp500, rand_model, features)"
   ]
  },
  {
   "cell_type": "code",
   "execution_count": null,
   "id": "9226fb48-0ff3-4766-b0a6-e58b89fdc5eb",
   "metadata": {},
   "outputs": [],
   "source": []
  }
 ],
 "metadata": {
  "kernelspec": {
   "display_name": "stock_kernel",
   "language": "python",
   "name": "stock_kernel"
  },
  "language_info": {
   "codemirror_mode": {
    "name": "ipython",
    "version": 3
   },
   "file_extension": ".py",
   "mimetype": "text/x-python",
   "name": "python",
   "nbconvert_exporter": "python",
   "pygments_lexer": "ipython3",
   "version": "3.11.2"
  }
 },
 "nbformat": 4,
 "nbformat_minor": 5
}
